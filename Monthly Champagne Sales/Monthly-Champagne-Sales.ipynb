{
 "cells": [
  {
   "cell_type": "markdown",
   "metadata": {
    "collapsed": true
   },
   "source": [
    "# Forecasting the monthly sales of French champagne\n",
    "\n",
    "Before we use ARIMA to model our dataset, let's start by making a naive forecast using walk-forward validation since we want to have a baseline model:"
   ]
  },
  {
   "cell_type": "code",
   "execution_count": 115,
   "metadata": {
    "scrolled": true
   },
   "outputs": [
    {
     "name": "stdout",
     "output_type": "stream",
     "text": [
      "Month\n",
      "1964-01-01     2815\n",
      "1964-02-01     2672\n",
      "1964-03-01     2755\n",
      "1964-04-01     2721\n",
      "1964-05-01     2946\n",
      "1964-06-01     3036\n",
      "1964-07-01     2282\n",
      "1964-08-01     2212\n",
      "1964-09-01     2922\n",
      "1964-10-01     4301\n",
      "1964-11-01     5764\n",
      "1964-12-01     7312\n",
      "1965-01-01     2541\n",
      "1965-02-01     2475\n",
      "1965-03-01     3031\n",
      "1965-04-01     3266\n",
      "1965-05-01     3776\n",
      "1965-06-01     3230\n",
      "1965-07-01     3028\n",
      "1965-08-01     1759\n",
      "1965-09-01     3595\n",
      "1965-10-01     4474\n",
      "1965-11-01     6838\n",
      "1965-12-01     8357\n",
      "1966-01-01     3113\n",
      "1966-02-01     3006\n",
      "1966-03-01     4047\n",
      "1966-04-01     3523\n",
      "1966-05-01     3937\n",
      "1966-06-01     3986\n",
      "              ...  \n",
      "1969-04-01     4276\n",
      "1969-05-01     4968\n",
      "1969-06-01     4677\n",
      "1969-07-01     3523\n",
      "1969-08-01     1821\n",
      "1969-09-01     5222\n",
      "1969-10-01     6872\n",
      "1969-11-01    10803\n",
      "1969-12-01    13916\n",
      "1970-01-01     2639\n",
      "1970-02-01     2899\n",
      "1970-03-01     3370\n",
      "1970-04-01     3740\n",
      "1970-05-01     2927\n",
      "1970-06-01     3986\n",
      "1970-07-01     4217\n",
      "1970-08-01     1738\n",
      "1970-09-01     5221\n",
      "1970-10-01     6424\n",
      "1970-11-01     9842\n",
      "1970-12-01    13076\n",
      "1971-01-01     3934\n",
      "1971-02-01     3162\n",
      "1971-03-01     4286\n",
      "1971-04-01     4676\n",
      "1971-05-01     5010\n",
      "1971-06-01     4874\n",
      "1971-07-01     4633\n",
      "1971-08-01     1659\n",
      "1971-09-01     5951\n",
      "Name: Perrin Freres monthly champagne sales millions ?64-?72, Length: 93, dtype: int64\n",
      "RMSE: 3186.501\n"
     ]
    }
   ],
   "source": [
    "import scipy\n",
    "import numpy as np\n",
    "import matplotlib.pyplot as plt\n",
    "import pandas as pd\n",
    "import sklearn as skl\n",
    "from sklearn.metrics import mean_squared_error\n",
    "import statsmodels as stmd\n",
    "from math import sqrt\n",
    "\n",
    "def parser(dates):\n",
    "    return pd.datetime.strptime(dates, '%Y-%m')\n",
    "\n",
    "series = pd.read_csv('monthly-champagne-sales.csv', header=0, parse_dates=[0], index_col=0, date_parser=parser)\n",
    "# print(series)\n",
    "dataset, validation = series[0:-12], series[-12:] #test set is the final year\n",
    "dataset.to_csv('dataset.csv')\n",
    "validation.to_csv('validation.csv')\n",
    "\n",
    "# load data\n",
    "series = pd.read_csv('dataset.csv', index_col=0, header=0, squeeze=True)\n",
    "print(series)\n",
    "\n",
    "# preparing data\n",
    "X = series.values\n",
    "# print(X)\n",
    "X = X.astype('float32')\n",
    "train_size = int(len(X) * 0.5)\n",
    "train, test = X[0:train_size], X[train_size:]\n",
    "\n",
    "# walk-forward validation\n",
    "history = [x for x in train]\n",
    "predictions = list()\n",
    "for i in range(len(test)):\n",
    "    # predict\n",
    "    yhat = history[-1]\n",
    "    predictions.append(yhat)\n",
    "    # observation\n",
    "    obs = test[i]\n",
    "    history.append(obs)\n",
    "#     print('>Predicted=%.3f, Expected=%.3f' % (yhat, obs))\n",
    "\n",
    "# report performance\n",
    "rmse = sqrt(mean_squared_error(test, predictions))\n",
    "print('RMSE: %.3f' % rmse)"
   ]
  },
  {
   "cell_type": "markdown",
   "metadata": {
    "collapsed": true
   },
   "source": [
    "# Data Analysis\n",
    "\n",
    "## Summary statistics"
   ]
  },
  {
   "cell_type": "code",
   "execution_count": 116,
   "metadata": {},
   "outputs": [
    {
     "name": "stdout",
     "output_type": "stream",
     "text": [
      "count       93.000000\n",
      "mean      4641.118280\n",
      "std       2486.403841\n",
      "min       1573.000000\n",
      "25%       3036.000000\n",
      "50%       4016.000000\n",
      "75%       5048.000000\n",
      "max      13916.000000\n",
      "Name: Perrin Freres monthly champagne sales millions ?64-?72, dtype: float64\n"
     ]
    }
   ],
   "source": [
    "print(series.describe())"
   ]
  },
  {
   "cell_type": "markdown",
   "metadata": {},
   "source": [
    "## Line plot of time series\n",
    "\n",
    "Let's look at the monthly sales of Perrin Freres champagne (excluding the data from the validation set):"
   ]
  },
  {
   "cell_type": "code",
   "execution_count": 117,
   "metadata": {
    "scrolled": true
   },
   "outputs": [
    {
     "data": {
      "image/png": "[encoded data removed]",
      "text/plain": [
       "<matplotlib.figure.Figure at 0x1a1736add8>"
      ]
     },
     "metadata": {},
     "output_type": "display_data"
    }
   ],
   "source": [
    "series.plot()\n",
    "plt.show()"
   ]
  },
  {
   "cell_type": "markdown",
   "metadata": {},
   "source": [
    "It seems there is a seasonality in this time series. "
   ]
  },
  {
   "cell_type": "markdown",
   "metadata": {},
   "source": [
    "## Box and Whisker Plots"
   ]
  },
  {
   "cell_type": "code",
   "execution_count": 127,
   "metadata": {
    "scrolled": false
   },
   "outputs": [
    {
     "name": "stderr",
     "output_type": "stream",
     "text": [
      "/Users/jacquesthibodeau/anaconda3/lib/python3.6/site-packages/ipykernel/__main__.py:3: FutureWarning: pd.TimeGrouper is deprecated and will be removed; Please use pd.Grouper(freq=...)\n",
      "  app.launch_new_instance()\n"
     ]
    },
    {
     "data": {
      "image/png": "[encoded data removed]",
      "text/plain": [
       "<matplotlib.figure.Figure at 0x10d292ef0>"
      ]
     },
     "metadata": {},
     "output_type": "display_data"
    }
   ],
   "source": [
    "series = pd.read_csv('dataset.csv', header=0, parse_dates=[0], index_col=0, squeeze=True)\n",
    "# print(series)\n",
    "groups = series['1964':'1970'].groupby(pd.TimeGrouper('A'))\n",
    "years = pd.DataFrame()\n",
    "for name, group in groups:\n",
    "    years[name.year] = group.values\n",
    "years.boxplot()\n",
    "plt.show()"
   ]
  },
  {
   "cell_type": "markdown",
   "metadata": {},
   "source": [
    "** need to fix plot"
   ]
  },
  {
   "cell_type": "code",
   "execution_count": null,
   "metadata": {
    "collapsed": true
   },
   "outputs": [],
   "source": []
  }
 ],
 "metadata": {
  "kernelspec": {
   "display_name": "Python [default]",
   "language": "python",
   "name": "python3"
  },
  "language_info": {
   "codemirror_mode": {
    "name": "ipython",
    "version": 3
   },
   "file_extension": ".py",
   "mimetype": "text/x-python",
   "name": "python",
   "nbconvert_exporter": "python",
   "pygments_lexer": "ipython3",
   "version": "3.6.3"
  }
 },
 "nbformat": 4,
 "nbformat_minor": 2
}
