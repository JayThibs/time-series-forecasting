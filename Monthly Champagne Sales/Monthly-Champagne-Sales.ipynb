{
 "cells": [
  {
   "cell_type": "markdown",
   "metadata": {
    "collapsed": true
   },
   "source": [
    "# Forecasting the monthly sales of French champagne"
   ]
  },
  {
   "cell_type": "code",
   "execution_count": 2,
   "metadata": {
    "collapsed": true
   },
   "outputs": [],
   "source": [
    "import scipy\n",
    "import numpy as np\n",
    "import matplotlib.pyplot as plt\n",
    "import pandas as pd\n",
    "import sklearn as skl\n",
    "import statsmodels as stmd\n",
    "from math import sqrt\n",
    "\n",
    "series = pd.read_csv('monthly-champagne-sales.csv', header=0)\n",
    "dataset, validation = series[0:-12], series[-12:] #test set is the final year\n",
    "dataset.to_csv('dataset.csv')\n",
    "validation.to_csv('validation.csv')\n",
    "\n",
    "# preparing data\n",
    "X = dataset.values\n",
    "X = X.astype('float32')\n",
    "train_size = int(len(X) * 0.5)\n",
    "train, test = X[0:train_size], X[train_size:]\n",
    "\n"
   ]
  },
  {
   "cell_type": "code",
   "execution_count": null,
   "metadata": {
    "collapsed": true
   },
   "outputs": [],
   "source": []
  },
  {
   "cell_type": "code",
   "execution_count": null,
   "metadata": {
    "collapsed": true
   },
   "outputs": [],
   "source": []
  }
 ],
 "metadata": {
  "kernelspec": {
   "display_name": "Python [default]",
   "language": "python",
   "name": "python3"
  },
  "language_info": {
   "codemirror_mode": {
    "name": "ipython",
    "version": 3
   },
   "file_extension": ".py",
   "mimetype": "text/x-python",
   "name": "python",
   "nbconvert_exporter": "python",
   "pygments_lexer": "ipython3",
   "version": "3.6.3"
  }
 },
 "nbformat": 4,
 "nbformat_minor": 2
}
