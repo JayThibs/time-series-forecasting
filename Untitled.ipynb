{
 "cells": [
  {
   "cell_type": "markdown",
   "metadata": {},
   "source": [
    "# Shampoo Sales Dataset\n",
    "\n",
    "In this notebook we will look at the monthly sales of shampoo over a three year period. We will be training our model on the first two years of sales and test our model on the final year.\n",
    "\n",
    "The goal of this study is to build a deep learning model that predicts the future shampoo sales in order to manufacture the right amount of shampoo in the future and increase profit. In other words, this model helps the shampoo company decrease the amount of overestimation or underestimation of the number of shampoo bottles they should manufacture."
   ]
  },
  {
   "cell_type": "markdown",
   "metadata": {},
   "source": [
    "# Data Exploration\n",
    "\n",
    "Let's have a look at the dataset we will be using (Makridakis, Wheelwright, and Hyndman (1998))."
   ]
  },
  {
   "cell_type": "code",
   "execution_count": 20,
   "metadata": {
    "scrolled": false
   },
   "outputs": [
    {
     "data": {
      "text/plain": [
       "Month\n",
       "1901-01-01    266.0\n",
       "1901-02-01    145.9\n",
       "1901-03-01    183.1\n",
       "1901-04-01    119.3\n",
       "1901-05-01    180.3\n",
       "Name: Sales of shampoo over a three year period, dtype: float64"
      ]
     },
     "execution_count": 20,
     "metadata": {},
     "output_type": "execute_result"
    }
   ],
   "source": [
    "import numpy\n",
    "import pandas as pd\n",
    "from pandas import datetime as dt\n",
    "from matplotlib import pyplot as plt\n",
    "\n",
    "def parser(x):\n",
    "    return dt.strptime('190'+x, '%Y-%m')\n",
    "\n",
    "monthly_df = pd.read_csv('shampoo-sales.csv', header=0, parse_dates=[0], index_col=0, squeeze=True, date_parser=parser)\n",
    "monthly_df.head()\n",
    "# monthly.plot(style='-k.')\n",
    "# yearly_df = read_csv('shampoo-sales.csv', header=0, parse_dates=[0], index_col=0, squeeze=True, date_parser=parser)\n",
    "# yearly = yearly_df.groupby([\"year\"])\n",
    "# yearly.hist()\n",
    "# plt.show()"
   ]
  },
  {
   "cell_type": "markdown",
   "metadata": {
    "collapsed": true
   },
   "source": [
    "The most obvious thing about this figure is that shampoo sales are increasing year per year. By the looks of it, the overall sales of the next year (1904 to 1905) will be more than all the previous years. "
   ]
  },
  {
   "cell_type": "code",
   "execution_count": null,
   "metadata": {
    "collapsed": true
   },
   "outputs": [],
   "source": []
  },
  {
   "cell_type": "markdown",
   "metadata": {},
   "source": [
    "We will start by creating a baseline model in order to compare its performance to the other models we will be building. The baseline model we will be using is called the persistence algorithm. The persistence algorithm uses the value at the previous time step (t-1) to predict the expected outcome at the next time step (t+1)."
   ]
  },
  {
   "cell_type": "code",
   "execution_count": null,
   "metadata": {
    "collapsed": true
   },
   "outputs": [],
   "source": []
  }
 ],
 "metadata": {
  "kernelspec": {
   "display_name": "Python [default]",
   "language": "python",
   "name": "python3"
  },
  "language_info": {
   "codemirror_mode": {
    "name": "ipython",
    "version": 3
   },
   "file_extension": ".py",
   "mimetype": "text/x-python",
   "name": "python",
   "nbconvert_exporter": "python",
   "pygments_lexer": "ipython3",
   "version": "3.6.3"
  },
  "widgets": {
   "state": {},
   "version": "1.1.2"
  }
 },
 "nbformat": 4,
 "nbformat_minor": 2
}
