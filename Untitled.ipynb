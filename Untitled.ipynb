{
 "cells": [
  {
   "cell_type": "markdown",
   "metadata": {},
   "source": [
    "# Shampoo Sales Dataset\n",
    "\n",
    "In this notebook we will look at the monthly sales of shampoo over a three year period. We will be training our model on the first two years of sales and test our model on the final year.\n",
    "\n",
    "The goal of this study is to build a deep learning model that predicts "
   ]
  }
 ],
 "metadata": {
  "kernelspec": {
   "display_name": "Python [conda env:py3datasci]",
   "language": "python",
   "name": "conda-env-py3datasci-py"
  },
  "language_info": {
   "codemirror_mode": {
    "name": "ipython",
    "version": 3
   },
   "file_extension": ".py",
   "mimetype": "text/x-python",
   "name": "python",
   "nbconvert_exporter": "python",
   "pygments_lexer": "ipython3",
   "version": "3.6.2"
  }
 },
 "nbformat": 4,
 "nbformat_minor": 2
}
